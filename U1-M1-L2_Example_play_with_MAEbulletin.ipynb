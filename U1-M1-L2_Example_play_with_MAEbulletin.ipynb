{
 "cells": [
  {
   "cell_type": "markdown",
   "metadata": {},
   "source": [
    "Before you turn this problem in, make sure everything runs as expected. First, **restart the kernel** (in the menubar, select Kernel$\\rightarrow$Restart) and then **run all cells** (in the menubar, select Cell$\\rightarrow$Run All).\n",
    "\n",
    "Make sure you fill in any place that says `YOUR CODE HERE` or \"YOUR ANSWER HERE\", as well as your name and group below:"
   ]
  },
  {
   "cell_type": "code",
   "execution_count": null,
   "metadata": {},
   "outputs": [],
   "source": [
    "COURSE = \"StatModels_2020_q3\"\n",
    "GROUP = \"\" # Either D2A or D2B\n",
    "NAME = \"\" # Match your GitHub Classroom ID"
   ]
  },
  {
   "cell_type": "markdown",
   "metadata": {},
   "source": [
    "---"
   ]
  },
  {
   "cell_type": "markdown",
   "metadata": {},
   "source": [
    "###### Content under Creative Commons Attribution license CC-BY 4.0, code under BSD 3-Clause License © 2017 L.A. Barba, N.C. Clementi\n",
    "###### Modified (2020) Gonzalo G. Peraza Mues"
   ]
  },
  {
   "cell_type": "markdown",
   "metadata": {},
   "source": [
    "# Strings and lists in action\n",
    "\n",
    "After completing U1_M1_L1, here we have a full example using all that you've learned.\n",
    "\n",
    "You may be wondering why we're dedicating the first lessons of the course to playing around with strings and lists. _\"Engineering computations involve numbers, formulas and equations!\"_, you may be thinking. The reason is that this course assumes no programming experience at all, so we want to get everyone used to Python first, without adding the extra complexity of number-crunching. The idea is to get acquainted with programming constructs first, applying them to situations that involve no mathematics ...for now!\n"
   ]
  },
  {
   "cell_type": "markdown",
   "metadata": {},
   "source": [
    "## Play with the MAE bulletin\n",
    "\n",
    "We are going to play with text from a file containing a copy of the [MAE Bulletin](http://bulletin.gwu.edu/engineering-applied-science/mechanical-aerospace-engineering/#coursestext)\n",
    "for 2017-2018. We'll create different lists to allow us to locate the title, credits and description of a course based on the course code.\n",
    "\n",
    "The data file for this example should be located in a folder named `data`.\n",
    "\n",
    "We'll start by reading the data file into the Jupyter notebook, then we'll clean the data a bit, and finally work out ways to play with it. "
   ]
  },
  {
   "cell_type": "markdown",
   "metadata": {},
   "source": [
    "### Read data from a file\n",
    "\n",
    "We know that we have a data file, and we'd like to read its contents into the Jupyter notebook. Usually, it's a good idea to first peek into the file, to see what its contents look like. This also gives us a chance to teach you a pretty neat trick.\n",
    "\n",
    "Recall that code cells in a Jupyter notebook can handle any valid **IPython** statement. Well, IPython is able to do a bit more than just Python: it can also run any [system command](https://ipython.org/ipython-doc/3/interactive/reference.html#system-shell-access).\n",
    "If you know some Unix, this can be very useful—for example, you could list all the files in the working directory (your location in the computer's file system).\n",
    "\n",
    "To execute a system (a.k.a., shell) command, you prepend `!`—a \"bang.\" The command we need is `head`: it prints out the first few lines of a file. \n",
    "\n",
    "Our data folder is found in the same directory as this Jupyter notebook. Let's call `head` with a bang:"
   ]
  },
  {
   "cell_type": "code",
   "execution_count": null,
   "metadata": {
    "tags": []
   },
   "outputs": [],
   "source": [
    "!head data/mae_bulletin.txt"
   ]
  },
  {
   "cell_type": "markdown",
   "metadata": {},
   "source": [
    "That looks good! The next step is to _open the file_ and save its contents into a  Python variable that we can use. \n",
    "\n",
    "The **`open()`** function with the file name as a _string_ argument (note the quotes) returns a Python file object. We have several options next, and you should definitely read the [documentation](https://docs.python.org/2/tutorial/inputoutput.html#reading-and-writing-files) about reading and writing files.\n",
    "\n",
    "If you use the **`read()`** file method, you get a (big) string with all the file's contents. If you use instead the **`readlines()`** method, you get a list of strings, where each string contains one line in the file. Yet another option is to use the **`list()`** function to create a list of lines from the file contents."
   ]
  },
  {
   "cell_type": "code",
   "execution_count": null,
   "metadata": {},
   "outputs": [],
   "source": [
    "mae_bulletin_file = open('data/mae_bulletin.txt')"
   ]
  },
  {
   "cell_type": "code",
   "execution_count": null,
   "metadata": {},
   "outputs": [],
   "source": [
    "mae_bulletin_text = mae_bulletin_file.readlines()"
   ]
  },
  {
   "cell_type": "code",
   "execution_count": null,
   "metadata": {},
   "outputs": [],
   "source": [
    "type(mae_bulletin_text)"
   ]
  },
  {
   "cell_type": "code",
   "execution_count": null,
   "metadata": {},
   "outputs": [],
   "source": [
    "len(mae_bulletin_text)"
   ]
  },
  {
   "cell_type": "markdown",
   "metadata": {},
   "source": [
    "### Cleaning and organizing text data\n",
    "\n",
    "When manipulating text data, one of the typical actions is to get rid of extra white spaces and lines. Here, we'll remove the spaces at the beginning and end of each line. \n",
    "\n",
    "Note that there are also some blank lines: we'll skip them. The goal is to get two new lists: one with the course ID line, and another with the course descriptions.  \n",
    "\n",
    "Study the following block of code:"
   ]
  },
  {
   "cell_type": "code",
   "execution_count": null,
   "metadata": {},
   "outputs": [],
   "source": [
    "courses = []\n",
    "descriptions = []\n",
    "\n",
    "for line in mae_bulletin_text:\n",
    "    line = line.strip()            #Remove white spaces\n",
    "    if line == '':                 #Skip the empty lines \n",
    "        continue\n",
    "    elif line.startswith('MAE'): \n",
    "        courses.append(line)       #Save lines that start with MAE in list\n",
    "    else:\n",
    "        descriptions.append(line)  #Save descriptions in other list"
   ]
  },
  {
   "cell_type": "markdown",
   "metadata": {},
   "source": [
    "Be sure to also visit the [documentation](https://docs.python.org/3/library/stdtypes.html#string-methods) for string methods, to get a glimpse of all the things you can do with Python! Here, we used the **`strip()`** method to get rid of leadign and trailing spaces, and we also used **`startswith()`** to identify the course ID lines.\n",
    "\n",
    "Let's check what we ended up with by printing a few items in each list:"
   ]
  },
  {
   "cell_type": "code",
   "execution_count": null,
   "metadata": {
    "tags": []
   },
   "outputs": [],
   "source": [
    "#print first 5 elements of courses\n",
    "print(courses[0:5])"
   ]
  },
  {
   "cell_type": "code",
   "execution_count": null,
   "metadata": {
    "tags": []
   },
   "outputs": [],
   "source": [
    "#print first 3 elements of descriptions\n",
    "print(descriptions[0:3])"
   ]
  },
  {
   "cell_type": "markdown",
   "metadata": {},
   "source": [
    "We should also check that both lists are the of the same length!"
   ]
  },
  {
   "cell_type": "code",
   "execution_count": null,
   "metadata": {
    "tags": []
   },
   "outputs": [],
   "source": [
    "print(len(courses))\n",
    "print(len(descriptions))"
   ]
  },
  {
   "cell_type": "markdown",
   "metadata": {},
   "source": [
    "### Separate `courses` list into course id, title, and credits\n",
    "\n",
    "We may want to have the information of the course id, title, and credits in separate lists. Here's how we could do that:"
   ]
  },
  {
   "cell_type": "code",
   "execution_count": null,
   "metadata": {},
   "outputs": [],
   "source": [
    "course_id = []\n",
    "course_title = []\n",
    "course_credits = []\n",
    "\n",
    "for course in courses:\n",
    "    course_info = course.split('. ') \n",
    "    course_id.append(course_info[0])\n",
    "    course_title.append(course_info[1])\n",
    "    course_credits.append(course_info[2])"
   ]
  },
  {
   "cell_type": "markdown",
   "metadata": {},
   "source": [
    "Note that we split using the string `'. '` (period + space) to avoid having an extra white space at the beginning of each string in the lists for course title and credits. \n",
    "\n",
    "Let's print out the first elements of the new lists."
   ]
  },
  {
   "cell_type": "code",
   "execution_count": null,
   "metadata": {
    "tags": []
   },
   "outputs": [],
   "source": [
    "print(course_id[0:5])"
   ]
  },
  {
   "cell_type": "code",
   "execution_count": null,
   "metadata": {
    "tags": []
   },
   "outputs": [],
   "source": [
    "print(course_title[0:5])"
   ]
  },
  {
   "cell_type": "code",
   "execution_count": null,
   "metadata": {
    "tags": []
   },
   "outputs": [],
   "source": [
    "print(course_credits[0:5])"
   ]
  },
  {
   "cell_type": "markdown",
   "metadata": {},
   "source": [
    "### Tracking course information\n",
    "\n",
    "The lists we have created are aligned: that is each item on the same index location corresponds to the same course. So by finding the location of a course id, we can access all the other information. \n",
    "\n",
    "We use the `index()` method to find the index of the course id and track the rest of the info. Try it out!"
   ]
  },
  {
   "cell_type": "code",
   "execution_count": null,
   "metadata": {},
   "outputs": [],
   "source": [
    "course_id.index('MAE 3190')"
   ]
  },
  {
   "cell_type": "code",
   "execution_count": null,
   "metadata": {
    "tags": []
   },
   "outputs": [],
   "source": [
    "print(course_id[17])\n",
    "print(course_title[17])\n",
    "print(course_credits[17])\n",
    "print(descriptions[17])"
   ]
  },
  {
   "cell_type": "markdown",
   "metadata": {},
   "source": [
    "### How many courses have prerequisites?\n",
    "\n",
    "Here's an idea: we could look for all the courses that have prerequisites using a `for` statement. In this case, we'll iterate over the _index_  of the elements in the list `descriptions`. \n",
    "\n",
    "It gives us a chance to introduce to you a most helpful Python object: **`range`**: it creates a sequence of numbers in arithmetic progression to iterate over. With a single argument, `range(N)` will create a sequence of length `N` starting at zero: `0, 1, 2, …, N-1`. "
   ]
  },
  {
   "cell_type": "code",
   "execution_count": null,
   "metadata": {
    "tags": []
   },
   "outputs": [],
   "source": [
    "for i in range(4):\n",
    "    print(i)"
   ]
  },
  {
   "cell_type": "markdown",
   "metadata": {},
   "source": [
    "The funny thing with `range` is that it's created on-the-fly, when iterating over it. So it's not really a list, although for most practical purposes, it behaves like one. \n",
    "\n",
    "A typical way to use it is with an argument that's output by the `len()` function. Study this block of code:"
   ]
  },
  {
   "cell_type": "code",
   "execution_count": null,
   "metadata": {},
   "outputs": [],
   "source": [
    "course_with_pre = []\n",
    "\n",
    "for i in range(len(descriptions)):\n",
    "    if 'Prerequisite' in descriptions[i]:\n",
    "        course_with_pre.append(course_id[i])"
   ]
  },
  {
   "cell_type": "markdown",
   "metadata": {},
   "source": [
    "Now we have a list named `course_with_pre` that contains the id of all the courses that have prerequisites."
   ]
  },
  {
   "cell_type": "code",
   "execution_count": null,
   "metadata": {
    "tags": []
   },
   "outputs": [],
   "source": [
    "print(course_with_pre)"
   ]
  },
  {
   "cell_type": "markdown",
   "metadata": {},
   "source": [
    "### Closing the file\n",
    "\n",
    "Once you stop working with the file, always rememeber to close it. "
   ]
  },
  {
   "cell_type": "code",
   "execution_count": null,
   "metadata": {},
   "outputs": [],
   "source": [
    "mae_bulletin_file.close()"
   ]
  },
  {
   "cell_type": "markdown",
   "metadata": {},
   "source": [
    "##### Exercise:\n",
    "\n",
    "1. Save in a new list named `course_with_cor` all the courses that have a corequisite, and print out the list. \n",
    "2. Using a `for` statement and `if-elif-else` statements, separate the courses that are offered in the Fall semester, those offered in the Spring semester, those offered in both semesters , and those that don't specify a semester. Create 4 lists: `fall_and_spring`, `fall`, `spring` and `not_spec`.\n",
    "\n",
    "*Tip:*\n",
    "\n",
    "When looking for the courses that are taught both semesters, check on the original file to look for the correct syntax."
   ]
  },
  {
   "cell_type": "code",
   "execution_count": null,
   "metadata": {
    "deletable": false,
    "nbgrader": {
     "cell_type": "code",
     "checksum": "a38308d5f8c88cbcdfb5e90b8cd048e1",
     "grade": false,
     "grade_id": "cell-78838284e555029f",
     "locked": false,
     "schema_version": 3,
     "solution": true,
     "task": false
    },
    "tags": []
   },
   "outputs": [],
   "source": [
    "# Exercise 1\n",
    "\n",
    "# YOUR CODE HERE\n",
    "raise NotImplementedError()\n",
    "\n",
    "print(\"You should have found the following courses:\")\n",
    "print(['MAE 3134', 'MAE 3184', 'MAE 4183', 'MAE 4195', 'MAE 6194', 'MAE 6195'])"
   ]
  },
  {
   "cell_type": "code",
   "execution_count": null,
   "metadata": {
    "deletable": false,
    "editable": false,
    "nbgrader": {
     "cell_type": "code",
     "checksum": "746c48cffcb02b1da5950388ac23f66c",
     "grade": true,
     "grade_id": "cell-439a93e46eaf3f53",
     "locked": true,
     "points": 4,
     "schema_version": 3,
     "solution": false,
     "task": false
    }
   },
   "outputs": [],
   "source": []
  },
  {
   "cell_type": "code",
   "execution_count": null,
   "metadata": {
    "deletable": false,
    "nbgrader": {
     "cell_type": "code",
     "checksum": "48a655d2d79827bdff74cd76999e1808",
     "grade": false,
     "grade_id": "cell-e9eede8056e66bf7",
     "locked": false,
     "schema_version": 3,
     "solution": true,
     "task": false
    }
   },
   "outputs": [],
   "source": [
    "# Exercise 2\n",
    "\n",
    "# YOUR CODE HERE\n",
    "raise NotImplementedError()"
   ]
  },
  {
   "cell_type": "markdown",
   "metadata": {},
   "source": [
    "To check your answers run the following test cell. If there is no output you got it right! This is how your assignments are autograded. Keep in mind some tests are hidden, such as in the exercise above."
   ]
  },
  {
   "cell_type": "code",
   "execution_count": null,
   "metadata": {
    "deletable": false,
    "editable": false,
    "nbgrader": {
     "cell_type": "code",
     "checksum": "809befe5a7bc700ea952a5860852257a",
     "grade": true,
     "grade_id": "cell-78e7cd4960bb077b",
     "locked": true,
     "points": 6,
     "schema_version": 3,
     "solution": false,
     "task": false
    }
   },
   "outputs": [],
   "source": [
    "fall_and_spring_ans = ['MAE 1004', 'MAE 4199']\n",
    "fall_ans = ['MAE 2117', 'MAE 3126', 'MAE 3145', 'MAE 3162', 'MAE 3166W', 'MAE 3190', 'MAE 3191', 'MAE 4157', 'MAE 4163', 'MAE 4193', 'MAE 6210', 'MAE 6275']\n",
    "spring_ans = ['MAE 3128', 'MAE 3167W', 'MAE 3193', 'MAE 6194', 'MAE 6195', 'MAE 6229', 'MAE 6235', 'MAE 6242', 'MAE 6247', 'MAE 6249', 'MAE 6258']\n",
    "not_spec_ans = ['MAE 2124', 'MAE 2131', 'MAE 2170', 'MAE 3120', 'MAE 3134', 'MAE 3155', 'MAE 3171', 'MAE 3184', 'MAE 3187', 'MAE 3192', 'MAE 3195', 'MAE 3196', 'MAE 3197', 'MAE 4129', 'MAE 4149', 'MAE 4168', 'MAE 4172', 'MAE 4182', 'MAE 4183', 'MAE 4194', 'MAE 4195', 'MAE 4198', 'MAE 6201', 'MAE 6203', 'MAE 6204', 'MAE 6207', 'MAE 6220', 'MAE 6221', 'MAE 6222', 'MAE 6223', 'MAE 6224', 'MAE 6225', 'MAE 6226', 'MAE 6227', 'MAE 6228', 'MAE 6230', 'MAE 6231', 'MAE 6232', 'MAE 6233', 'MAE 6234', 'MAE 6237', 'MAE 6238', 'MAE 6239', 'MAE 6240', 'MAE 6241', 'MAE 6243', 'MAE 6244', 'MAE 6245', 'MAE 6246', 'MAE 6251', 'MAE 6252', 'MAE 6253', 'MAE 6254', 'MAE 6255', 'MAE 6257', 'MAE 6260', 'MAE 6261', 'MAE 6262', 'MAE 6263', 'MAE 6270', 'MAE 6271', 'MAE 6274', 'MAE 6276', 'MAE 6277', 'MAE 6280', 'MAE 6281', 'MAE 6282', 'MAE 6283', 'MAE 6284', 'MAE 6286', 'MAE 6287', 'MAE 6288', 'MAE 6290', 'MAE 6291', 'MAE 6292', 'MAE 6298', 'MAE 6998', 'MAE 6999', 'MAE 8350', 'MAE 8351', 'MAE 8352', 'MAE 8998', 'MAE 8999']\n",
    "\n",
    "assert fall_and_spring == fall_and_spring_ans \n",
    "assert fall == fall_ans\n",
    "assert spring == spring_ans\n",
    "assert not_spec == not_spec_ans"
   ]
  },
  {
   "cell_type": "markdown",
   "metadata": {},
   "source": [
    "## What we've learned\n",
    "\n",
    "* System commands in a code cell start with a bang (`!`).\n",
    "* Opening a text file and saving its contents into a string or list variable.\n",
    "* Cleaning up text data using string methods.\n",
    "* Manipulating text into lists."
   ]
  }
 ],
 "metadata": {
  "kernelspec": {
   "display_name": "Python 3",
   "language": "python",
   "name": "python3"
  },
  "language_info": {
   "codemirror_mode": {
    "name": "ipython",
    "version": 3
   },
   "file_extension": ".py",
   "mimetype": "text/x-python",
   "name": "python",
   "nbconvert_exporter": "python",
   "pygments_lexer": "ipython3",
   "version": "3.8.3"
  },
  "widgets": {
   "state": {},
   "version": "1.1.2"
  }
 },
 "nbformat": 4,
 "nbformat_minor": 4
}
